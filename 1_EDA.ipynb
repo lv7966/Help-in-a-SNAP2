{
 "cells": [
  {
   "cell_type": "markdown",
   "metadata": {},
   "source": [
    "# Exploring the Data\n",
    "\n",
    "- [Imports](#imports)   \n",
    "    - [First Glance](#firstglance)\n",
    "- [Data](#data)\n",
    "    - [2007 Data](#2007data)\n",
    "    - [2017 Data](#2017data)\n",
    "    - [Target Variable](#targetvariable)\n",
    "    - [Reference Tables](#referencetables)\n",
    "- [Extracting State Data](#extractingstatedata)\n",
    "    - [New Mexico](#newmexico)\n",
    "    - [Nebraska](#nebraska)\n",
    "- [Initial Snapshots of the data](#initialsnapshot)\n",
    "- [Null Values](#nullvalues)\n",
    "    - [Full Missing Values](#fullnull)\n",
    "    - [Partial Missing: High Nullity](#partialnull)\n",
    "    - [Imputing null values with mean](#simpleimputer)\n",
    "- [Save Clean Files](#exportclean)"
   ]
  },
  {
   "cell_type": "markdown",
   "metadata": {},
   "source": [
    "# Imports   <a id=imports></a>"
   ]
  },
  {
   "cell_type": "code",
   "execution_count": null,
   "metadata": {
    "execution": {
     "iopub.status.idle": "2020-11-30T22:32:53.922965Z",
     "shell.execute_reply": "2020-11-30T22:32:53.922174Z",
     "shell.execute_reply.started": "2020-11-30T22:32:52.032147Z"
    }
   },
   "outputs": [],
   "source": [
    "import pandas as pd\n",
    "import numpy as np\n",
    "import matplotlib.pyplot as plt\n",
    "import seaborn as sns\n",
    "\n",
    "from sklearn.impute import SimpleImputer\n",
    "\n",
    "import autoreload\n",
    "%load_ext autoreload\n",
    "%autoreload 2\n",
    "import python_code.Scripts as sc\n",
    "import python_code.Reference as ref"
   ]
  },
  {
   "cell_type": "markdown",
   "metadata": {},
   "source": [
    "### _First glance..._ <a id=firstglance></a>\n",
    "These datasets contains information about each household that received SNAP benefits in 2007 and 2017.  Each household is representated by a record and goes on to record information about each member of the household.  \n",
    "\n",
    "For our purposes, we will break this down into two states of interest: New Mexico and Nebraska.  This is due to a previous geographical analysis of emerging hot and cold spots targeting San Juan County, New Mexico as a new hot spot and Cherry County, Nebraska as a new cold spot."
   ]
  },
  {
   "cell_type": "markdown",
   "metadata": {},
   "source": [
    "# Data  <a id=data><a>"
   ]
  },
  {
   "cell_type": "markdown",
   "metadata": {},
   "source": [
    "### _2007 Data_  <a id=2007data><a>\n",
    "First, we are starting with the 2007 dataset downloaded from the [USDA site](https://www.fns.usda.gov/resource/snap-quality-control-data)"
   ]
  },
  {
   "cell_type": "code",
   "execution_count": null,
   "metadata": {},
   "outputs": [],
   "source": [
    "#pip install pyreadstat #need not run this since already installed before"
   ]
  },
  {
   "cell_type": "code",
   "execution_count": null,
   "metadata": {},
   "outputs": [],
   "source": [
    "#pip install pickle5 #need not run this since already installed before"
   ]
  },
  {
   "cell_type": "code",
   "execution_count": null,
   "metadata": {
    "execution": {
     "iopub.execute_input": "2020-11-30T22:32:53.924685Z",
     "iopub.status.busy": "2020-11-30T22:32:53.924373Z",
     "iopub.status.idle": "2020-11-30T22:33:07.838307Z",
     "shell.execute_reply": "2020-11-30T22:33:07.837265Z",
     "shell.execute_reply.started": "2020-11-30T22:32:53.924661Z"
    }
   },
   "outputs": [],
   "source": [
    "snap07 = pd.read_spss('./data/qc_pub_fy2007.sav')"
   ]
  },
  {
   "cell_type": "code",
   "execution_count": null,
   "metadata": {
    "execution": {
     "iopub.execute_input": "2020-11-30T22:33:07.840883Z",
     "iopub.status.busy": "2020-11-30T22:33:07.840574Z",
     "iopub.status.idle": "2020-11-30T22:33:07.935817Z",
     "shell.execute_reply": "2020-11-30T22:33:07.935013Z",
     "shell.execute_reply.started": "2020-11-30T22:33:07.840853Z"
    }
   },
   "outputs": [],
   "source": [
    "snap07.head(5)"
   ]
  },
  {
   "cell_type": "code",
   "execution_count": null,
   "metadata": {
    "execution": {
     "iopub.execute_input": "2020-11-30T22:33:07.937975Z",
     "iopub.status.busy": "2020-11-30T22:33:07.937754Z",
     "iopub.status.idle": "2020-11-30T22:33:07.963836Z",
     "shell.execute_reply": "2020-11-30T22:33:07.962976Z",
     "shell.execute_reply.started": "2020-11-30T22:33:07.937954Z"
    }
   },
   "outputs": [],
   "source": [
    "snap07.shape"
   ]
  },
  {
   "cell_type": "code",
   "execution_count": null,
   "metadata": {
    "execution": {
     "iopub.execute_input": "2020-11-30T22:33:07.965018Z",
     "iopub.status.busy": "2020-11-30T22:33:07.964809Z",
     "iopub.status.idle": "2020-11-30T22:33:08.010919Z",
     "shell.execute_reply": "2020-11-30T22:33:08.010106Z",
     "shell.execute_reply.started": "2020-11-30T22:33:07.964997Z"
    }
   },
   "outputs": [],
   "source": [
    "snap07.info()"
   ]
  },
  {
   "cell_type": "code",
   "execution_count": null,
   "metadata": {
    "execution": {
     "iopub.execute_input": "2020-11-30T22:33:08.012040Z",
     "iopub.status.busy": "2020-11-30T22:33:08.011844Z",
     "iopub.status.idle": "2020-11-30T22:33:08.121907Z",
     "shell.execute_reply": "2020-11-30T22:33:08.121204Z",
     "shell.execute_reply.started": "2020-11-30T22:33:08.012019Z"
    }
   },
   "outputs": [],
   "source": [
    "snap07.isnull().sum()"
   ]
  },
  {
   "cell_type": "markdown",
   "metadata": {},
   "source": [
    "### _2017 Data_  <a id=2017data><a>"
   ]
  },
  {
   "cell_type": "code",
   "execution_count": null,
   "metadata": {
    "execution": {
     "iopub.execute_input": "2020-11-30T22:33:08.123290Z",
     "iopub.status.busy": "2020-11-30T22:33:08.123068Z",
     "iopub.status.idle": "2020-11-30T22:33:10.167982Z",
     "shell.execute_reply": "2020-11-30T22:33:10.167111Z",
     "shell.execute_reply.started": "2020-11-30T22:33:08.123267Z"
    }
   },
   "outputs": [],
   "source": [
    "snap17 = pd.read_csv('./data/qc_pub_fy2017.csv')"
   ]
  },
  {
   "cell_type": "code",
   "execution_count": null,
   "metadata": {
    "execution": {
     "iopub.execute_input": "2020-11-30T22:33:10.170094Z",
     "iopub.status.busy": "2020-11-30T22:33:10.169467Z",
     "iopub.status.idle": "2020-11-30T22:33:10.213946Z",
     "shell.execute_reply": "2020-11-30T22:33:10.213106Z",
     "shell.execute_reply.started": "2020-11-30T22:33:10.170058Z"
    }
   },
   "outputs": [],
   "source": [
    "snap17.head(5)"
   ]
  },
  {
   "cell_type": "code",
   "execution_count": null,
   "metadata": {
    "execution": {
     "iopub.execute_input": "2020-11-30T22:33:10.216922Z",
     "iopub.status.busy": "2020-11-30T22:33:10.216635Z",
     "iopub.status.idle": "2020-11-30T22:33:10.271669Z",
     "shell.execute_reply": "2020-11-30T22:33:10.270786Z",
     "shell.execute_reply.started": "2020-11-30T22:33:10.216896Z"
    }
   },
   "outputs": [],
   "source": [
    "snap17.info()"
   ]
  },
  {
   "cell_type": "code",
   "execution_count": null,
   "metadata": {
    "execution": {
     "iopub.execute_input": "2020-11-30T22:33:10.274158Z",
     "iopub.status.busy": "2020-11-30T22:33:10.273914Z",
     "iopub.status.idle": "2020-11-30T22:33:10.412917Z",
     "shell.execute_reply": "2020-11-30T22:33:10.412249Z",
     "shell.execute_reply.started": "2020-11-30T22:33:10.274137Z"
    }
   },
   "outputs": [],
   "source": [
    "snap17.isnull().sum()"
   ]
  },
  {
   "cell_type": "markdown",
   "metadata": {},
   "source": [
    "### _Target Variable_  <a id=targetvariable><a>"
   ]
  },
  {
   "cell_type": "code",
   "execution_count": null,
   "metadata": {
    "execution": {
     "iopub.execute_input": "2020-11-30T22:33:10.414326Z",
     "iopub.status.busy": "2020-11-30T22:33:10.414019Z",
     "iopub.status.idle": "2020-11-30T22:33:10.447137Z",
     "shell.execute_reply": "2020-11-30T22:33:10.446509Z",
     "shell.execute_reply.started": "2020-11-30T22:33:10.414283Z"
    }
   },
   "outputs": [],
   "source": [
    "# 2007: 1 = Eligible, 2 = Not eligible\n",
    "snap07['CAT_ELIG'].value_counts()"
   ]
  },
  {
   "cell_type": "code",
   "execution_count": null,
   "metadata": {
    "execution": {
     "iopub.execute_input": "2020-11-30T22:33:10.448666Z",
     "iopub.status.busy": "2020-11-30T22:33:10.448429Z",
     "iopub.status.idle": "2020-11-30T22:33:10.478709Z",
     "shell.execute_reply": "2020-11-30T22:33:10.478043Z",
     "shell.execute_reply.started": "2020-11-30T22:33:10.448643Z"
    }
   },
   "outputs": [],
   "source": [
    "# 2017: 0 = Not eligible, 1 = Reported eligible, 2= Recorded eligible\n",
    "snap17['CAT_ELIG'].value_counts()"
   ]
  },
  {
   "cell_type": "markdown",
   "metadata": {},
   "source": [
    "__Observations:__ I am going to change the target variable in both datasets to a dictionary of:\n",
    "- 0 = Not Eligible\n",
    "- 1 = Eligible"
   ]
  },
  {
   "cell_type": "code",
   "execution_count": null,
   "metadata": {
    "execution": {
     "iopub.execute_input": "2020-11-30T22:33:10.480046Z",
     "iopub.status.busy": "2020-11-30T22:33:10.479609Z",
     "iopub.status.idle": "2020-11-30T22:33:10.512635Z",
     "shell.execute_reply": "2020-11-30T22:33:10.511643Z",
     "shell.execute_reply.started": "2020-11-30T22:33:10.480012Z"
    }
   },
   "outputs": [],
   "source": [
    "snap07['CAT_ELIG'] = snap07['CAT_ELIG'].replace(2,0)\n",
    "snap17['CAT_ELIG'] = snap17['CAT_ELIG'].replace(2,1)"
   ]
  },
  {
   "cell_type": "code",
   "execution_count": null,
   "metadata": {
    "execution": {
     "iopub.execute_input": "2020-11-30T22:33:10.514198Z",
     "iopub.status.busy": "2020-11-30T22:33:10.513956Z",
     "iopub.status.idle": "2020-11-30T22:33:10.544281Z",
     "shell.execute_reply": "2020-11-30T22:33:10.543712Z",
     "shell.execute_reply.started": "2020-11-30T22:33:10.514170Z"
    }
   },
   "outputs": [],
   "source": [
    "snap07['CAT_ELIG'].value_counts()"
   ]
  },
  {
   "cell_type": "code",
   "execution_count": null,
   "metadata": {
    "execution": {
     "iopub.execute_input": "2020-11-30T22:33:10.545488Z",
     "iopub.status.busy": "2020-11-30T22:33:10.545298Z",
     "iopub.status.idle": "2020-11-30T22:33:10.576891Z",
     "shell.execute_reply": "2020-11-30T22:33:10.576222Z",
     "shell.execute_reply.started": "2020-11-30T22:33:10.545468Z"
    }
   },
   "outputs": [],
   "source": [
    "snap17['CAT_ELIG'].value_counts()"
   ]
  },
  {
   "cell_type": "code",
   "execution_count": null,
   "metadata": {
    "execution": {
     "iopub.execute_input": "2020-11-30T22:33:10.578065Z",
     "iopub.status.busy": "2020-11-30T22:33:10.577858Z",
     "iopub.status.idle": "2020-11-30T22:33:10.605456Z",
     "shell.execute_reply": "2020-11-30T22:33:10.604847Z",
     "shell.execute_reply.started": "2020-11-30T22:33:10.578045Z"
    }
   },
   "outputs": [],
   "source": [
    "print(f'2017 dataset: {snap17.shape} VS 2007 dataset: {snap07.shape}')"
   ]
  },
  {
   "cell_type": "markdown",
   "metadata": {},
   "source": [
    "__Observations:__ Less people nationally applied for SNAP benefits in 2017 as opposed to 2007.  This probably had to do with stronger national economic factors such as employment opportunities.  Also, 45 columns of features were added to the dataset."
   ]
  },
  {
   "cell_type": "markdown",
   "metadata": {},
   "source": [
    "### _Reference tables_  <a id=referencetables><a>"
   ]
  },
  {
   "cell_type": "code",
   "execution_count": null,
   "metadata": {
    "execution": {
     "iopub.execute_input": "2020-11-30T22:33:10.606675Z",
     "iopub.status.busy": "2020-11-30T22:33:10.606387Z",
     "iopub.status.idle": "2020-11-30T22:33:10.635547Z",
     "shell.execute_reply": "2020-11-30T22:33:10.634692Z",
     "shell.execute_reply.started": "2020-11-30T22:33:10.606651Z"
    }
   },
   "outputs": [],
   "source": [
    "print(f'Unit Demo, 2007 is {ref.unit07_demo.shape[0]} and 2017 is {ref.unit17_demo.shape[0]}')\n",
    "print(f'Unit Assets, 2007 is {ref.unit07_assets.shape[0]} and 2017 is {ref.unit17_assets.shape[0]}')\n",
    "print(f'Unit ExDed, 2007 is {ref.unit07_exded.shape[0]} and 2017 is {ref.unit17_exded.shape[0]}')\n",
    "print(f'Unit Inc, 2007 is {ref.unit07_inc.shape[0]} and 2017 is {ref.unit17_inc.shape[0]}')\n",
    "print(f'Pers Char, 2007 is {ref.per07_char.shape[0]} and 2017 is {ref.per17_char.shape[0]}')\n",
    "print(f'Pers Inc, 2007 is {ref.per07_inc.shape[0]} and 2017 is {ref.per17_inc.shape[0]}')"
   ]
  },
  {
   "cell_type": "markdown",
   "metadata": {},
   "source": [
    "__Observations:__ From 2007 to 2017, every category obtained more columns except for Expenses and Deductables."
   ]
  },
  {
   "cell_type": "markdown",
   "metadata": {},
   "source": [
    "# Extracting state data  <a id=extractingstatedata><a>"
   ]
  },
  {
   "cell_type": "markdown",
   "metadata": {},
   "source": [
    "### _New Mexico_  <a id=newmexico><a>"
   ]
  },
  {
   "cell_type": "code",
   "execution_count": null,
   "metadata": {
    "execution": {
     "iopub.execute_input": "2020-11-30T22:33:10.637192Z",
     "iopub.status.busy": "2020-11-30T22:33:10.636917Z",
     "iopub.status.idle": "2020-11-30T22:33:11.277117Z",
     "shell.execute_reply": "2020-11-30T22:33:11.275903Z",
     "shell.execute_reply.started": "2020-11-30T22:33:10.637171Z"
    }
   },
   "outputs": [],
   "source": [
    "#save New Mexico records\n",
    "nm07 = snap07.loc[snap07['STATE'] == 35].astype('float64')\n",
    "nm07_target = nm07['CAT_ELIG']\n",
    "nm07.to_csv('./data/nm07.csv',index=None)"
   ]
  },
  {
   "cell_type": "code",
   "execution_count": null,
   "metadata": {
    "execution": {
     "iopub.execute_input": "2020-11-30T22:33:11.278633Z",
     "iopub.status.busy": "2020-11-30T22:33:11.278438Z",
     "iopub.status.idle": "2020-11-30T22:33:11.783276Z",
     "shell.execute_reply": "2020-11-30T22:33:11.782512Z",
     "shell.execute_reply.started": "2020-11-30T22:33:11.278613Z"
    }
   },
   "outputs": [],
   "source": [
    "nm17 = snap17.loc[snap17['STATE'] == 35]\n",
    "nm17_target = nm17['CAT_ELIG']\n",
    "nm17 = nm17.drop(columns = ['STATENAME'])\n",
    "nm17 = nm17.astype('float64')\n",
    "nm17.to_csv('./data/nm17.csv',index=None)"
   ]
  },
  {
   "cell_type": "code",
   "execution_count": null,
   "metadata": {
    "execution": {
     "iopub.execute_input": "2020-11-30T22:33:11.784510Z",
     "iopub.status.busy": "2020-11-30T22:33:11.784184Z",
     "iopub.status.idle": "2020-11-30T22:33:11.932461Z",
     "shell.execute_reply": "2020-11-30T22:33:11.931897Z",
     "shell.execute_reply.started": "2020-11-30T22:33:11.784468Z"
    }
   },
   "outputs": [],
   "source": [
    "#New Mexico dataframe\n",
    "df_nm07 = pd.read_csv('./data/nm07.csv')\n",
    "df_nm07"
   ]
  },
  {
   "cell_type": "code",
   "execution_count": null,
   "metadata": {
    "execution": {
     "iopub.execute_input": "2020-11-30T22:33:11.933796Z",
     "iopub.status.busy": "2020-11-30T22:33:11.933314Z",
     "iopub.status.idle": "2020-11-30T22:33:12.056916Z",
     "shell.execute_reply": "2020-11-30T22:33:12.056193Z",
     "shell.execute_reply.started": "2020-11-30T22:33:11.933764Z"
    }
   },
   "outputs": [],
   "source": [
    "df_nm17 = pd.read_csv('./data/nm17.csv')\n",
    "df_nm17"
   ]
  },
  {
   "cell_type": "code",
   "execution_count": null,
   "metadata": {
    "execution": {
     "iopub.execute_input": "2020-11-30T22:33:12.058248Z",
     "iopub.status.busy": "2020-11-30T22:33:12.057906Z",
     "iopub.status.idle": "2020-11-30T22:33:12.087204Z",
     "shell.execute_reply": "2020-11-30T22:33:12.086422Z",
     "shell.execute_reply.started": "2020-11-30T22:33:12.058221Z"
    }
   },
   "outputs": [],
   "source": [
    "df_nm07['CAT_ELIG'].value_counts()"
   ]
  },
  {
   "cell_type": "code",
   "execution_count": null,
   "metadata": {
    "execution": {
     "iopub.execute_input": "2020-11-30T22:33:12.089221Z",
     "iopub.status.busy": "2020-11-30T22:33:12.088735Z",
     "iopub.status.idle": "2020-11-30T22:33:12.119291Z",
     "shell.execute_reply": "2020-11-30T22:33:12.118283Z",
     "shell.execute_reply.started": "2020-11-30T22:33:12.089145Z"
    }
   },
   "outputs": [],
   "source": [
    "df_nm17['CAT_ELIG'].value_counts()"
   ]
  },
  {
   "cell_type": "markdown",
   "metadata": {},
   "source": [
    "### _Nebraska_  <a id=nebraska><a>"
   ]
  },
  {
   "cell_type": "code",
   "execution_count": null,
   "metadata": {
    "execution": {
     "iopub.execute_input": "2020-11-30T22:33:12.120902Z",
     "iopub.status.busy": "2020-11-30T22:33:12.120642Z",
     "iopub.status.idle": "2020-11-30T22:33:12.524551Z",
     "shell.execute_reply": "2020-11-30T22:33:12.523527Z",
     "shell.execute_reply.started": "2020-11-30T22:33:12.120876Z"
    }
   },
   "outputs": [],
   "source": [
    "# Save Nebrasks records\n",
    "ne07 = snap07.loc[snap07['STATE'] == 31].astype('float64')\n",
    "ne07_target = ne07['CAT_ELIG']\n",
    "ne07.to_csv('./data/ne07.csv',index=None)"
   ]
  },
  {
   "cell_type": "code",
   "execution_count": null,
   "metadata": {
    "execution": {
     "iopub.execute_input": "2020-11-30T22:33:12.526380Z",
     "iopub.status.busy": "2020-11-30T22:33:12.526179Z",
     "iopub.status.idle": "2020-11-30T22:33:12.996761Z",
     "shell.execute_reply": "2020-11-30T22:33:12.995868Z",
     "shell.execute_reply.started": "2020-11-30T22:33:12.526359Z"
    }
   },
   "outputs": [],
   "source": [
    "ne17 = snap17.loc[snap17['STATE'] == 31]\n",
    "ne17_target = ne17['CAT_ELIG']\n",
    "ne17 = ne17.drop(columns = ['STATENAME'])\n",
    "ne17 = ne17.astype('float64')\n",
    "ne17.to_csv('./data/ne17.csv',index=None)"
   ]
  },
  {
   "cell_type": "code",
   "execution_count": null,
   "metadata": {
    "execution": {
     "iopub.execute_input": "2020-11-30T22:33:12.998324Z",
     "iopub.status.busy": "2020-11-30T22:33:12.998001Z",
     "iopub.status.idle": "2020-11-30T22:33:13.108417Z",
     "shell.execute_reply": "2020-11-30T22:33:13.107763Z",
     "shell.execute_reply.started": "2020-11-30T22:33:12.998298Z"
    }
   },
   "outputs": [],
   "source": [
    "#Nebraska dataframe\n",
    "df_ne07 = pd.read_csv('./data/ne07.csv')\n",
    "df_ne07"
   ]
  },
  {
   "cell_type": "code",
   "execution_count": null,
   "metadata": {
    "execution": {
     "iopub.execute_input": "2020-11-30T22:33:13.113730Z",
     "iopub.status.busy": "2020-11-30T22:33:13.113510Z",
     "iopub.status.idle": "2020-11-30T22:33:13.277143Z",
     "shell.execute_reply": "2020-11-30T22:33:13.276586Z",
     "shell.execute_reply.started": "2020-11-30T22:33:13.113710Z"
    }
   },
   "outputs": [],
   "source": [
    "df_ne17 = pd.read_csv('./data/ne17.csv')\n",
    "df_ne17"
   ]
  },
  {
   "cell_type": "code",
   "execution_count": null,
   "metadata": {
    "execution": {
     "iopub.execute_input": "2020-11-30T22:33:13.279694Z",
     "iopub.status.busy": "2020-11-30T22:33:13.279485Z",
     "iopub.status.idle": "2020-11-30T22:33:13.307445Z",
     "shell.execute_reply": "2020-11-30T22:33:13.306783Z",
     "shell.execute_reply.started": "2020-11-30T22:33:13.279675Z"
    }
   },
   "outputs": [],
   "source": [
    "df_ne07['CAT_ELIG'].value_counts()"
   ]
  },
  {
   "cell_type": "code",
   "execution_count": null,
   "metadata": {
    "execution": {
     "iopub.execute_input": "2020-11-30T22:33:13.309135Z",
     "iopub.status.busy": "2020-11-30T22:33:13.308763Z",
     "iopub.status.idle": "2020-11-30T22:33:13.343425Z",
     "shell.execute_reply": "2020-11-30T22:33:13.342274Z",
     "shell.execute_reply.started": "2020-11-30T22:33:13.309099Z"
    }
   },
   "outputs": [],
   "source": [
    "df_ne17['CAT_ELIG'].value_counts()"
   ]
  },
  {
   "cell_type": "markdown",
   "metadata": {},
   "source": [
    "__Observation:__ We can see there are 1255 people who applied for SNAP in New Mexico, opposed to 791 applications in Nebraska in 2007.  \n",
    "\n",
    "There were significantly more people in both states (Nebraska: 894, New Mexico:  964) on SNAP in 2017.  Due to a dramatic change, I suspect that it was due to more being eligible because of a change in qualifications.  "
   ]
  },
  {
   "cell_type": "markdown",
   "metadata": {},
   "source": [
    "# Initial Snapshots of the data  <a id=initialsnapshot><a>"
   ]
  },
  {
   "cell_type": "code",
   "execution_count": null,
   "metadata": {
    "execution": {
     "iopub.execute_input": "2020-11-30T22:33:13.344829Z",
     "iopub.status.busy": "2020-11-30T22:33:13.344487Z",
     "iopub.status.idle": "2020-11-30T22:33:14.367554Z",
     "shell.execute_reply": "2020-11-30T22:33:14.366932Z",
     "shell.execute_reply.started": "2020-11-30T22:33:13.344798Z"
    }
   },
   "outputs": [],
   "source": [
    "sc.plot_simple_features('FSNELDER','elderly',\"Number of Elderly(over age 60)\")"
   ]
  },
  {
   "cell_type": "code",
   "execution_count": null,
   "metadata": {
    "execution": {
     "iopub.execute_input": "2020-11-30T22:33:14.369208Z",
     "iopub.status.busy": "2020-11-30T22:33:14.368860Z",
     "iopub.status.idle": "2020-11-30T22:33:14.840527Z",
     "shell.execute_reply": "2020-11-30T22:33:14.839699Z",
     "shell.execute_reply.started": "2020-11-30T22:33:14.369177Z"
    }
   },
   "outputs": [],
   "source": [
    "#single-female head of household - FSNGMOM\n",
    "sc.plot_simple_features('FSNGMOM','single_mom',\"Number of Single Mom as Head of Household\")"
   ]
  },
  {
   "cell_type": "code",
   "execution_count": null,
   "metadata": {
    "execution": {
     "iopub.execute_input": "2020-11-30T22:33:14.841902Z",
     "iopub.status.busy": "2020-11-30T22:33:14.841548Z",
     "iopub.status.idle": "2020-11-30T22:33:15.429827Z",
     "shell.execute_reply": "2020-11-30T22:33:15.429238Z",
     "shell.execute_reply.started": "2020-11-30T22:33:14.841869Z"
    }
   },
   "outputs": [],
   "source": [
    "#number of children - FSNKID\n",
    "sc.plot_simple_features('FSNKID','no_children',\"Number of Children over 5\")"
   ]
  },
  {
   "cell_type": "code",
   "execution_count": null,
   "metadata": {
    "execution": {
     "iopub.execute_input": "2020-11-30T22:33:15.431140Z",
     "iopub.status.busy": "2020-11-30T22:33:15.430920Z",
     "iopub.status.idle": "2020-11-30T22:33:16.031352Z",
     "shell.execute_reply": "2020-11-30T22:33:16.030765Z",
     "shell.execute_reply.started": "2020-11-30T22:33:15.431118Z"
    }
   },
   "outputs": [],
   "source": [
    "#number of children under 5 = FSNK5T17\n",
    "sc.plot_simple_features('FSNK5T17','no_toddler',\"Number of Children under 5\")"
   ]
  },
  {
   "cell_type": "code",
   "execution_count": null,
   "metadata": {
    "execution": {
     "iopub.execute_input": "2020-11-30T22:33:16.032563Z",
     "iopub.status.busy": "2020-11-30T22:33:16.032246Z",
     "iopub.status.idle": "2020-11-30T22:33:16.580224Z",
     "shell.execute_reply": "2020-11-30T22:33:16.579538Z",
     "shell.execute_reply.started": "2020-11-30T22:33:16.032537Z"
    }
   },
   "outputs": [],
   "source": [
    "#number of noncitizens in unit = FSNONCIT\n",
    "sc.plot_simple_features('FSNONCIT','non_citiz',\"Number of Non-Citizens\")"
   ]
  },
  {
   "cell_type": "markdown",
   "metadata": {},
   "source": [
    "# Null Values   <a id=nullvalues><a>\n",
    "\n",
    "This will be a long section dedicated to an initial reduction of columns by different treatments of null values."
   ]
  },
  {
   "cell_type": "markdown",
   "metadata": {},
   "source": [
    "### _Full Missing values_   <a id=fullnull><a>\n",
    "There are many columns that have no data in them at all, we will remove those."
   ]
  },
  {
   "cell_type": "markdown",
   "metadata": {},
   "source": [
    "___New Mexico___"
   ]
  },
  {
   "cell_type": "code",
   "execution_count": null,
   "metadata": {
    "execution": {
     "iopub.execute_input": "2020-11-30T22:33:16.581508Z",
     "iopub.status.busy": "2020-11-30T22:33:16.581266Z",
     "iopub.status.idle": "2020-11-30T22:33:16.615085Z",
     "shell.execute_reply": "2020-11-30T22:33:16.614436Z",
     "shell.execute_reply.started": "2020-11-30T22:33:16.581485Z"
    },
    "scrolled": true
   },
   "outputs": [],
   "source": [
    "with pd.option_context('display.max_rows', None):\n",
    "    print(df_nm07.isnull().sum().sort_values(ascending=False)[:96])"
   ]
  },
  {
   "cell_type": "code",
   "execution_count": null,
   "metadata": {
    "execution": {
     "iopub.execute_input": "2020-11-30T22:33:16.616601Z",
     "iopub.status.busy": "2020-11-30T22:33:16.616214Z",
     "iopub.status.idle": "2020-11-30T22:33:16.680912Z",
     "shell.execute_reply": "2020-11-30T22:33:16.680387Z",
     "shell.execute_reply.started": "2020-11-30T22:33:16.616566Z"
    }
   },
   "outputs": [],
   "source": [
    "#Remove those columns.\n",
    "first_cut = df_nm07.isnull().sum().sort_values(ascending=False)[:96]\n",
    "first_cut_df = pd.DataFrame([first_cut])\n",
    "first_cut_df.T\n",
    "fc_list = list(first_cut_df.columns)\n",
    "\n",
    "#remove them\n",
    "nm07 = df_nm07.drop(fc_list,axis=1)\n",
    "nm07"
   ]
  },
  {
   "cell_type": "code",
   "execution_count": null,
   "metadata": {
    "execution": {
     "iopub.execute_input": "2020-11-30T22:33:16.682113Z",
     "iopub.status.busy": "2020-11-30T22:33:16.681881Z",
     "iopub.status.idle": "2020-11-30T22:33:16.713103Z",
     "shell.execute_reply": "2020-11-30T22:33:16.712503Z",
     "shell.execute_reply.started": "2020-11-30T22:33:16.682091Z"
    },
    "scrolled": true
   },
   "outputs": [],
   "source": [
    "with pd.option_context('display.max_rows', None):\n",
    "    print(df_nm17.isnull().sum().sort_values(ascending=False)[:165])"
   ]
  },
  {
   "cell_type": "code",
   "execution_count": null,
   "metadata": {
    "execution": {
     "iopub.execute_input": "2020-11-30T22:33:16.714540Z",
     "iopub.status.busy": "2020-11-30T22:33:16.714306Z",
     "iopub.status.idle": "2020-11-30T22:33:16.784707Z",
     "shell.execute_reply": "2020-11-30T22:33:16.783720Z",
     "shell.execute_reply.started": "2020-11-30T22:33:16.714517Z"
    }
   },
   "outputs": [],
   "source": [
    "#Remove those columns.\n",
    "first_cut = df_nm17.isnull().sum().sort_values(ascending=False)[:165]\n",
    "first_cut_df = pd.DataFrame([first_cut])\n",
    "first_cut_df.T\n",
    "fc_list = list(first_cut_df.columns)\n",
    "\n",
    "#remove them\n",
    "nm17 = df_nm17.drop(fc_list,axis=1)\n",
    "nm17"
   ]
  },
  {
   "cell_type": "markdown",
   "metadata": {},
   "source": [
    "___Nebraska___"
   ]
  },
  {
   "cell_type": "code",
   "execution_count": null,
   "metadata": {
    "execution": {
     "iopub.execute_input": "2020-11-30T22:33:16.786183Z",
     "iopub.status.busy": "2020-11-30T22:33:16.785807Z",
     "iopub.status.idle": "2020-11-30T22:33:16.819032Z",
     "shell.execute_reply": "2020-11-30T22:33:16.818286Z",
     "shell.execute_reply.started": "2020-11-30T22:33:16.786155Z"
    },
    "scrolled": true
   },
   "outputs": [],
   "source": [
    "with pd.option_context('display.max_rows', None):\n",
    "    print(df_ne07.isnull().sum().sort_values(ascending=False)[:144])"
   ]
  },
  {
   "cell_type": "code",
   "execution_count": null,
   "metadata": {
    "execution": {
     "iopub.execute_input": "2020-11-30T22:33:16.820211Z",
     "iopub.status.busy": "2020-11-30T22:33:16.819942Z",
     "iopub.status.idle": "2020-11-30T22:33:16.880311Z",
     "shell.execute_reply": "2020-11-30T22:33:16.879668Z",
     "shell.execute_reply.started": "2020-11-30T22:33:16.820189Z"
    }
   },
   "outputs": [],
   "source": [
    "#Remove those columns.\n",
    "first_cut = df_ne07.isnull().sum().sort_values(ascending=False)[:144]\n",
    "first_cut_df = pd.DataFrame([first_cut])\n",
    "first_cut_df.T\n",
    "fc_list = list(first_cut_df.columns)\n",
    "\n",
    "#remove them\n",
    "ne07 = df_ne07.drop(fc_list,axis=1)\n",
    "ne07"
   ]
  },
  {
   "cell_type": "code",
   "execution_count": null,
   "metadata": {
    "execution": {
     "iopub.execute_input": "2020-11-30T22:33:16.881884Z",
     "iopub.status.busy": "2020-11-30T22:33:16.881635Z",
     "iopub.status.idle": "2020-11-30T22:33:16.912916Z",
     "shell.execute_reply": "2020-11-30T22:33:16.912281Z",
     "shell.execute_reply.started": "2020-11-30T22:33:16.881861Z"
    },
    "scrolled": true
   },
   "outputs": [],
   "source": [
    "with pd.option_context('display.max_rows', None):\n",
    "    print(df_ne17.isnull().sum().sort_values(ascending=False)[:91])"
   ]
  },
  {
   "cell_type": "code",
   "execution_count": null,
   "metadata": {
    "execution": {
     "iopub.execute_input": "2020-11-30T22:33:16.914356Z",
     "iopub.status.busy": "2020-11-30T22:33:16.914117Z",
     "iopub.status.idle": "2020-11-30T22:33:16.988832Z",
     "shell.execute_reply": "2020-11-30T22:33:16.987820Z",
     "shell.execute_reply.started": "2020-11-30T22:33:16.914333Z"
    }
   },
   "outputs": [],
   "source": [
    "#Remove those columns.\n",
    "first_cut = df_ne17.isnull().sum().sort_values(ascending=False)[:91]\n",
    "first_cut_df = pd.DataFrame([first_cut])\n",
    "first_cut_df.T\n",
    "fc_list = list(first_cut_df.columns)\n",
    "\n",
    "#remove them\n",
    "ne17 = df_ne17.drop(fc_list,axis=1)\n",
    "ne17"
   ]
  },
  {
   "cell_type": "markdown",
   "metadata": {
    "execution": {
     "iopub.execute_input": "2020-08-23T15:12:10.941983Z",
     "iopub.status.busy": "2020-08-23T15:12:10.941639Z",
     "iopub.status.idle": "2020-08-23T15:12:28.829546Z",
     "shell.execute_reply": "2020-08-23T15:12:28.828434Z",
     "shell.execute_reply.started": "2020-08-23T15:12:10.941956Z"
    }
   },
   "source": [
    "### _Partial Missing: High Nullity_   <a id=partialnull><a>\n",
    "\n",
    "According to a paper called [The proportion of missing data should not be used to guide decisions on multiple imputation](https://www.sciencedirect.com/science/article/pii/S0895435618308710), I will be more concerned about the value of the data used to impute rather than the amount of missing information.  In order to do that, I will use a 50% cutoff of missing rows in a column to ensure the imputation method is more accurate. "
   ]
  },
  {
   "cell_type": "code",
   "execution_count": null,
   "metadata": {
    "execution": {
     "iopub.execute_input": "2020-11-30T22:33:16.990912Z",
     "iopub.status.busy": "2020-11-30T22:33:16.990563Z",
     "iopub.status.idle": "2020-11-30T22:33:17.020069Z",
     "shell.execute_reply": "2020-11-30T22:33:17.019341Z",
     "shell.execute_reply.started": "2020-11-30T22:33:16.990874Z"
    }
   },
   "outputs": [],
   "source": [
    "dict_df = {'nm07':nm07,'nm17':nm17,'ne07':ne07,'ne17':ne17}"
   ]
  },
  {
   "cell_type": "code",
   "execution_count": null,
   "metadata": {
    "execution": {
     "iopub.execute_input": "2020-11-30T22:33:17.021694Z",
     "iopub.status.busy": "2020-11-30T22:33:17.021291Z",
     "iopub.status.idle": "2020-11-30T22:33:17.058155Z",
     "shell.execute_reply": "2020-11-30T22:33:17.055975Z",
     "shell.execute_reply.started": "2020-11-30T22:33:17.021667Z"
    }
   },
   "outputs": [],
   "source": [
    "for key, value in dict_df.items():\n",
    "    print(f'50% mark for high nullitary columns:')\n",
    "    print(f'{key}: {round(value.shape[0]/2)}')"
   ]
  },
  {
   "cell_type": "code",
   "execution_count": null,
   "metadata": {
    "execution": {
     "iopub.execute_input": "2020-11-30T22:33:17.060300Z",
     "iopub.status.busy": "2020-11-30T22:33:17.059838Z",
     "iopub.status.idle": "2020-11-30T22:33:17.106502Z",
     "shell.execute_reply": "2020-11-30T22:33:17.105921Z",
     "shell.execute_reply.started": "2020-11-30T22:33:17.060255Z"
    }
   },
   "outputs": [],
   "source": [
    "all_df_att = pd.DataFrame(dict_df.keys(), columns = ['name'])\n",
    "all_df_att['rows'] = [value.shape[0] for key,value in dict_df.items()]\n",
    "all_df_att['threshold'] = [round(value.shape[0]/2) for key, value in dict_df.items()]\n",
    "all_df_att['start_col'] = [value.shape[1] for key,value in dict_df.items()]\n",
    "all_df_att"
   ]
  },
  {
   "cell_type": "code",
   "execution_count": null,
   "metadata": {
    "execution": {
     "iopub.execute_input": "2020-11-30T22:33:17.107913Z",
     "iopub.status.busy": "2020-11-30T22:33:17.107581Z",
     "iopub.status.idle": "2020-11-30T22:33:17.148670Z",
     "shell.execute_reply": "2020-11-30T22:33:17.147950Z",
     "shell.execute_reply.started": "2020-11-30T22:33:17.107887Z"
    }
   },
   "outputs": [],
   "source": [
    "#New Mexico 2007\n",
    "null_counts = nm07.isnull().sum()\n",
    "nulls = null_counts[null_counts>628]\n",
    "sc_list = list(nulls.index)\n",
    "\n",
    "#remove them\n",
    "nm07 = nm07.drop(sc_list,axis=1)\n",
    "all_df_att['end_col'] = nm07.shape[1]\n",
    "all_df_att"
   ]
  },
  {
   "cell_type": "code",
   "execution_count": null,
   "metadata": {
    "execution": {
     "iopub.execute_input": "2020-11-30T22:33:17.150031Z",
     "iopub.status.busy": "2020-11-30T22:33:17.149822Z",
     "iopub.status.idle": "2020-11-30T22:33:17.191941Z",
     "shell.execute_reply": "2020-11-30T22:33:17.191138Z",
     "shell.execute_reply.started": "2020-11-30T22:33:17.150010Z"
    }
   },
   "outputs": [],
   "source": [
    "#New Mexico 2017\n",
    "null_counts = nm17.isnull().sum()\n",
    "nulls = null_counts[null_counts>482]\n",
    "sc_list = list(nulls.index)\n",
    "\n",
    "#remove them\n",
    "nm17 = nm17.drop(sc_list,axis=1)\n",
    "all_df_att.loc[all_df_att['name']=='nm17',['end_col']] = nm17.shape[1]\n",
    "all_df_att"
   ]
  },
  {
   "cell_type": "code",
   "execution_count": null,
   "metadata": {
    "execution": {
     "iopub.execute_input": "2020-11-30T22:33:17.193409Z",
     "iopub.status.busy": "2020-11-30T22:33:17.193021Z",
     "iopub.status.idle": "2020-11-30T22:33:17.230483Z",
     "shell.execute_reply": "2020-11-30T22:33:17.229668Z",
     "shell.execute_reply.started": "2020-11-30T22:33:17.193377Z"
    }
   },
   "outputs": [],
   "source": [
    "#Nebraska 2007\n",
    "null_counts = ne07.isnull().sum()\n",
    "nulls = null_counts[null_counts>396]\n",
    "sc_list = list(nulls.index)\n",
    "\n",
    "#remove them\n",
    "ne07 = ne07.drop(sc_list,axis=1)\n",
    "all_df_att.loc[all_df_att['name']=='ne07',['end_col']] = ne07.shape[1]\n",
    "all_df_att"
   ]
  },
  {
   "cell_type": "code",
   "execution_count": null,
   "metadata": {
    "execution": {
     "iopub.execute_input": "2020-11-30T22:33:17.232082Z",
     "iopub.status.busy": "2020-11-30T22:33:17.231819Z",
     "iopub.status.idle": "2020-11-30T22:33:17.272331Z",
     "shell.execute_reply": "2020-11-30T22:33:17.271575Z",
     "shell.execute_reply.started": "2020-11-30T22:33:17.232058Z"
    }
   },
   "outputs": [],
   "source": [
    "#Nebraska 2017\n",
    "null_counts = ne17.isnull().sum()\n",
    "nulls = null_counts[null_counts>447]\n",
    "sc_list = list(nulls.index)\n",
    "\n",
    "#remove them\n",
    "ne17 = ne17.drop(sc_list,axis=1)\n",
    "all_df_att.loc[all_df_att['name']=='ne17',['end_col']] = ne17.shape[1]\n",
    "all_df_att"
   ]
  },
  {
   "cell_type": "markdown",
   "metadata": {},
   "source": [
    "### _Imputing null values with mean_   <a id=simpleimputer><a>\n",
    "Now I will use scikitlearn imputer to fill in values for the rest of the columns with null values by accessing a script from the Py_Scripts file.  "
   ]
  },
  {
   "cell_type": "code",
   "execution_count": null,
   "metadata": {
    "execution": {
     "iopub.execute_input": "2020-11-30T22:33:17.273622Z",
     "iopub.status.busy": "2020-11-30T22:33:17.273280Z",
     "iopub.status.idle": "2020-11-30T22:33:17.365824Z",
     "shell.execute_reply": "2020-11-30T22:33:17.365141Z",
     "shell.execute_reply.started": "2020-11-30T22:33:17.273588Z"
    }
   },
   "outputs": [],
   "source": [
    "nm07 = sc.impute_df(nm07)\n",
    "nm17 = sc.impute_df(nm17)\n",
    "ne07 = sc.impute_df(ne07)\n",
    "ne17 = sc.impute_df(ne17)"
   ]
  },
  {
   "cell_type": "markdown",
   "metadata": {},
   "source": [
    "__Observation:__ Now that I have imputed the mean, we still have columns that have all zero's as their values. We will drop those columns."
   ]
  },
  {
   "cell_type": "code",
   "execution_count": null,
   "metadata": {
    "execution": {
     "iopub.execute_input": "2020-11-30T22:33:17.367536Z",
     "iopub.status.busy": "2020-11-30T22:33:17.367108Z",
     "iopub.status.idle": "2020-11-30T22:33:17.419877Z",
     "shell.execute_reply": "2020-11-30T22:33:17.418921Z",
     "shell.execute_reply.started": "2020-11-30T22:33:17.367509Z"
    }
   },
   "outputs": [],
   "source": [
    "nm07 = sc.only_zero(nm07)\n",
    "nm17 = sc.only_zero(nm17)\n",
    "ne07 = sc.only_zero(ne07)\n",
    "ne17 = sc.only_zero(ne17)"
   ]
  },
  {
   "cell_type": "code",
   "execution_count": null,
   "metadata": {
    "execution": {
     "iopub.execute_input": "2020-11-30T22:33:17.421455Z",
     "iopub.status.busy": "2020-11-30T22:33:17.421202Z",
     "iopub.status.idle": "2020-11-30T22:33:17.467059Z",
     "shell.execute_reply": "2020-11-30T22:33:17.466059Z",
     "shell.execute_reply.started": "2020-11-30T22:33:17.421430Z"
    }
   },
   "outputs": [],
   "source": [
    "all_df_att['orig'] = 0\n",
    "all_df_att['final_col']=0\n",
    "\n",
    "all_df_att.loc[all_df_att['name']=='nm07',['orig']] = df_nm07.shape[1]\n",
    "all_df_att.loc[all_df_att['name']=='nm17',['orig']] = df_nm17.shape[1]\n",
    "all_df_att.loc[all_df_att['name']=='ne07',['orig']] = df_ne07.shape[1]\n",
    "all_df_att.loc[all_df_att['name']=='ne17',['orig']] = df_ne17.shape[1]\n",
    "\n",
    "all_df_att.loc[all_df_att['name']=='nm07',['final_col']] = nm07.shape[1]\n",
    "all_df_att.loc[all_df_att['name']=='nm17',['final_col']] = nm17.shape[1]\n",
    "all_df_att.loc[all_df_att['name']=='ne07',['final_col']] = ne07.shape[1]\n",
    "all_df_att.loc[all_df_att['name']=='ne17',['final_col']] = ne17.shape[1]"
   ]
  },
  {
   "cell_type": "code",
   "execution_count": null,
   "metadata": {
    "execution": {
     "iopub.execute_input": "2020-11-30T22:33:17.469320Z",
     "iopub.status.busy": "2020-11-30T22:33:17.468575Z",
     "iopub.status.idle": "2020-11-30T22:33:17.509331Z",
     "shell.execute_reply": "2020-11-30T22:33:17.508160Z",
     "shell.execute_reply.started": "2020-11-30T22:33:17.469246Z"
    }
   },
   "outputs": [],
   "source": [
    "all_df_att.set_index('name')"
   ]
  },
  {
   "cell_type": "code",
   "execution_count": null,
   "metadata": {
    "execution": {
     "iopub.execute_input": "2020-11-30T22:33:17.510999Z",
     "iopub.status.busy": "2020-11-30T22:33:17.510668Z",
     "iopub.status.idle": "2020-11-30T22:33:17.799338Z",
     "shell.execute_reply": "2020-11-30T22:33:17.798745Z",
     "shell.execute_reply.started": "2020-11-30T22:33:17.510974Z"
    }
   },
   "outputs": [],
   "source": [
    "quarter = (all_df_att['orig'].mean())*.25\n",
    "\n",
    "fig, ax = plt.subplots(figsize=(20,10))\n",
    "all_df_att[['orig','final_col']].plot.bar(ax=ax)\n",
    "plt.xlabel('Dataset',fontsize=15)\n",
    "plt.ylabel('Column count',fontsize=15)\n",
    "plt.xticks([0, 1, 2,3],labels=['nm07','nm17','ne07','ne17'],rotation=360)\n",
    "plt.axhline(y=quarter,linewidth=1,color='r')\n",
    "plt.legend(fontsize=15)\n",
    "plt.title('We are left with a quarter of the original columns \\n (red line shows the quarter mark of the original column mean count)',fontsize=20)\n",
    "plt.savefig('./images/final_null.png');"
   ]
  },
  {
   "cell_type": "markdown",
   "metadata": {},
   "source": [
    "#  Save Clean Files   <a id=exportclean><a>"
   ]
  },
  {
   "cell_type": "code",
   "execution_count": null,
   "metadata": {
    "execution": {
     "iopub.execute_input": "2020-11-30T22:33:17.800518Z",
     "iopub.status.busy": "2020-11-30T22:33:17.800189Z",
     "iopub.status.idle": "2020-11-30T22:33:17.985404Z",
     "shell.execute_reply": "2020-11-30T22:33:17.984341Z",
     "shell.execute_reply.started": "2020-11-30T22:33:17.800494Z"
    }
   },
   "outputs": [],
   "source": [
    "nm07_target.reset_index(drop=True,inplace=True)\n",
    "nm07 = nm07.assign(CAT_ELIG=nm07_target)\n",
    "nm07 = nm07.astype('float64')\n",
    "nm07.to_csv('./data/clean_nm07.csv',index=None)"
   ]
  },
  {
   "cell_type": "code",
   "execution_count": null,
   "metadata": {
    "execution": {
     "iopub.execute_input": "2020-11-30T22:33:17.987248Z",
     "iopub.status.busy": "2020-11-30T22:33:17.986993Z",
     "iopub.status.idle": "2020-11-30T22:33:18.136318Z",
     "shell.execute_reply": "2020-11-30T22:33:18.135400Z",
     "shell.execute_reply.started": "2020-11-30T22:33:17.987226Z"
    }
   },
   "outputs": [],
   "source": [
    "nm17_target.reset_index(drop=True,inplace=True)\n",
    "nm17 = nm17.assign(CAT_ELIG=nm17_target)\n",
    "nm17 = nm17.astype('float64')\n",
    "nm17.to_csv('./data/clean_nm17.csv',index=None)"
   ]
  },
  {
   "cell_type": "code",
   "execution_count": null,
   "metadata": {
    "execution": {
     "iopub.execute_input": "2020-11-30T22:33:18.137903Z",
     "iopub.status.busy": "2020-11-30T22:33:18.137484Z",
     "iopub.status.idle": "2020-11-30T22:33:18.258148Z",
     "shell.execute_reply": "2020-11-30T22:33:18.257077Z",
     "shell.execute_reply.started": "2020-11-30T22:33:18.137875Z"
    }
   },
   "outputs": [],
   "source": [
    "ne07_target.reset_index(drop=True,inplace=True)\n",
    "ne07 = ne07.assign(CAT_ELIG=ne07_target)\n",
    "ne07 = ne07.astype('float64')\n",
    "ne07.to_csv('./data/clean_ne07.csv',index=None)"
   ]
  },
  {
   "cell_type": "code",
   "execution_count": null,
   "metadata": {
    "execution": {
     "iopub.execute_input": "2020-11-30T22:33:18.259604Z",
     "iopub.status.busy": "2020-11-30T22:33:18.259404Z",
     "iopub.status.idle": "2020-11-30T22:33:18.419185Z",
     "shell.execute_reply": "2020-11-30T22:33:18.418177Z",
     "shell.execute_reply.started": "2020-11-30T22:33:18.259584Z"
    }
   },
   "outputs": [],
   "source": [
    "ne17_target.reset_index(drop=True,inplace=True)\n",
    "ne17 = ne17.assign(CAT_ELIG=ne17_target)\n",
    "ne17 = ne17.astype('float64')\n",
    "ne17.to_csv('./data/clean_ne17.csv',index=None)"
   ]
  },
  {
   "cell_type": "code",
   "execution_count": null,
   "metadata": {},
   "outputs": [],
   "source": []
  }
 ],
 "metadata": {
  "kernelspec": {
   "display_name": "Python 3 (ipykernel)",
   "language": "python",
   "name": "python3"
  },
  "language_info": {
   "codemirror_mode": {
    "name": "ipython",
    "version": 3
   },
   "file_extension": ".py",
   "mimetype": "text/x-python",
   "name": "python",
   "nbconvert_exporter": "python",
   "pygments_lexer": "ipython3",
   "version": "3.9.13"
  }
 },
 "nbformat": 4,
 "nbformat_minor": 4
}
